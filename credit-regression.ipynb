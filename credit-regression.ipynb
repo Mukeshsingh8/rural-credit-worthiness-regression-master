{
 "cells": [
  {
   "cell_type": "code",
   "execution_count": 0,
   "metadata": {
    "colab": {},
    "colab_type": "code",
    "id": "gsnVGdd8L77g"
   },
   "outputs": [],
   "source": [
    "import matplotlib.pyplot as plt\n",
    "import numpy as np\n",
    "import pandas as pd\n",
    "import seaborn as sns\n",
    "import statsmodels.api as sm\n",
    "from google.colab import drive\n",
    "from scipy import stats\n",
    "from sklearn.base import TransformerMixin\n",
    "from sklearn.metrics import mean_squared_error\n",
    "from sklearn.model_selection import train_test_split\n",
    "%matplotlib inline"
   ]
  },
  {
   "cell_type": "code",
   "execution_count": 0,
   "metadata": {
    "colab": {},
    "colab_type": "code",
    "id": "LKg4e8Q2MWzZ"
   },
   "outputs": [],
   "source": [
    "df = pd.read_csv('trainingData.csv')"
   ]
  },
  {
   "cell_type": "code",
   "execution_count": 5,
   "metadata": {
    "colab": {
     "base_uri": "https://localhost:8080/",
     "height": 52
    },
    "colab_type": "code",
    "id": "onVtBYhMMaP3",
    "outputId": "920c4905-79ba-473b-c7a3-fc7bed5d855e"
   },
   "outputs": [
    {
     "name": "stdout",
     "output_type": "stream",
     "text": [
      "Total number of rows in dataset = 40000\n",
      "Total number of columns in dataset = 21\n"
     ]
    }
   ],
   "source": [
    "print (\"Total number of rows in dataset = {}\".format(df.shape[0]))\n",
    "print (\"Total number of columns in dataset = {}\".format(df.shape[1]))"
   ]
  },
  {
   "cell_type": "code",
   "execution_count": 6,
   "metadata": {
    "colab": {
     "base_uri": "https://localhost:8080/",
     "height": 222
    },
    "colab_type": "code",
    "id": "bKCaVJCZMbn2",
    "outputId": "31ead5ae-ad11-491c-bcbd-d4724e3e5227"
   },
   "outputs": [
    {
     "data": {
      "text/html": [
       "<div>\n",
       "<style scoped>\n",
       "    .dataframe tbody tr th:only-of-type {\n",
       "        vertical-align: middle;\n",
       "    }\n",
       "\n",
       "    .dataframe tbody tr th {\n",
       "        vertical-align: top;\n",
       "    }\n",
       "\n",
       "    .dataframe thead th {\n",
       "        text-align: right;\n",
       "    }\n",
       "</style>\n",
       "<table border=\"1\" class=\"dataframe\">\n",
       "  <thead>\n",
       "    <tr style=\"text-align: right;\">\n",
       "      <th></th>\n",
       "      <th>Id</th>\n",
       "      <th>city</th>\n",
       "      <th>age</th>\n",
       "      <th>sex</th>\n",
       "      <th>social_class</th>\n",
       "      <th>primary_business</th>\n",
       "      <th>secondary_business</th>\n",
       "      <th>annual_income</th>\n",
       "      <th>monthly_expenses</th>\n",
       "      <th>old_dependents</th>\n",
       "      <th>young_dependents</th>\n",
       "      <th>home_ownership</th>\n",
       "      <th>type_of_house</th>\n",
       "      <th>occupants_count</th>\n",
       "      <th>house_area</th>\n",
       "      <th>sanitary_availability</th>\n",
       "      <th>water_availabity</th>\n",
       "      <th>loan_purpose</th>\n",
       "      <th>loan_tenure</th>\n",
       "      <th>loan_installments</th>\n",
       "      <th>loan_amount</th>\n",
       "    </tr>\n",
       "  </thead>\n",
       "  <tbody>\n",
       "    <tr>\n",
       "      <th>0</th>\n",
       "      <td>1</td>\n",
       "      <td>Dhanbad</td>\n",
       "      <td>22</td>\n",
       "      <td>F</td>\n",
       "      <td>Mochi</td>\n",
       "      <td>Tailoring</td>\n",
       "      <td>Others</td>\n",
       "      <td>36000.0</td>\n",
       "      <td>5000.0</td>\n",
       "      <td>0</td>\n",
       "      <td>2</td>\n",
       "      <td>1.0</td>\n",
       "      <td>R</td>\n",
       "      <td>4</td>\n",
       "      <td>70.0</td>\n",
       "      <td>1.0</td>\n",
       "      <td>0.5</td>\n",
       "      <td>Apparels</td>\n",
       "      <td>12</td>\n",
       "      <td>12</td>\n",
       "      <td>5000.0</td>\n",
       "    </tr>\n",
       "    <tr>\n",
       "      <th>1</th>\n",
       "      <td>2</td>\n",
       "      <td>Manjapra</td>\n",
       "      <td>21</td>\n",
       "      <td>F</td>\n",
       "      <td>OBC</td>\n",
       "      <td>Tailoring</td>\n",
       "      <td>none</td>\n",
       "      <td>94000.0</td>\n",
       "      <td>3600.0</td>\n",
       "      <td>1</td>\n",
       "      <td>1</td>\n",
       "      <td>1.0</td>\n",
       "      <td>T1</td>\n",
       "      <td>4</td>\n",
       "      <td>80.0</td>\n",
       "      <td>1.0</td>\n",
       "      <td>0.5</td>\n",
       "      <td>Apparels</td>\n",
       "      <td>12</td>\n",
       "      <td>50</td>\n",
       "      <td>7500.0</td>\n",
       "    </tr>\n",
       "    <tr>\n",
       "      <th>2</th>\n",
       "      <td>3</td>\n",
       "      <td>Dhanbad</td>\n",
       "      <td>24</td>\n",
       "      <td>M</td>\n",
       "      <td>Nai</td>\n",
       "      <td>Beauty salon</td>\n",
       "      <td>Others</td>\n",
       "      <td>48000.0</td>\n",
       "      <td>4000.0</td>\n",
       "      <td>0</td>\n",
       "      <td>2</td>\n",
       "      <td>1.0</td>\n",
       "      <td>T1</td>\n",
       "      <td>4</td>\n",
       "      <td>50.0</td>\n",
       "      <td>1.0</td>\n",
       "      <td>0.5</td>\n",
       "      <td>Beauty Salon</td>\n",
       "      <td>12</td>\n",
       "      <td>12</td>\n",
       "      <td>5000.0</td>\n",
       "    </tr>\n",
       "    <tr>\n",
       "      <th>3</th>\n",
       "      <td>4</td>\n",
       "      <td>NaN</td>\n",
       "      <td>26</td>\n",
       "      <td>F</td>\n",
       "      <td>OBC</td>\n",
       "      <td>Tailoring</td>\n",
       "      <td>none</td>\n",
       "      <td>7000.0</td>\n",
       "      <td>5000.0</td>\n",
       "      <td>0</td>\n",
       "      <td>2</td>\n",
       "      <td>1.0</td>\n",
       "      <td>T1</td>\n",
       "      <td>5</td>\n",
       "      <td>50.0</td>\n",
       "      <td>1.0</td>\n",
       "      <td>0.5</td>\n",
       "      <td>Apparels</td>\n",
       "      <td>12</td>\n",
       "      <td>50</td>\n",
       "      <td>7500.0</td>\n",
       "    </tr>\n",
       "    <tr>\n",
       "      <th>4</th>\n",
       "      <td>5</td>\n",
       "      <td>Nuapada</td>\n",
       "      <td>23</td>\n",
       "      <td>F</td>\n",
       "      <td>OBC</td>\n",
       "      <td>General store</td>\n",
       "      <td>Agriculture</td>\n",
       "      <td>36000.0</td>\n",
       "      <td>3500.0</td>\n",
       "      <td>0</td>\n",
       "      <td>0</td>\n",
       "      <td>1.0</td>\n",
       "      <td>T1</td>\n",
       "      <td>1</td>\n",
       "      <td>112.0</td>\n",
       "      <td>1.0</td>\n",
       "      <td>0.5</td>\n",
       "      <td>Retail Store</td>\n",
       "      <td>12</td>\n",
       "      <td>12</td>\n",
       "      <td>5000.0</td>\n",
       "    </tr>\n",
       "  </tbody>\n",
       "</table>\n",
       "</div>"
      ],
      "text/plain": [
       "   Id      city  age  ... loan_tenure loan_installments loan_amount\n",
       "0   1   Dhanbad   22  ...          12                12      5000.0\n",
       "1   2  Manjapra   21  ...          12                50      7500.0\n",
       "2   3   Dhanbad   24  ...          12                12      5000.0\n",
       "3   4       NaN   26  ...          12                50      7500.0\n",
       "4   5   Nuapada   23  ...          12                12      5000.0\n",
       "\n",
       "[5 rows x 21 columns]"
      ]
     },
     "execution_count": 6,
     "metadata": {
      "tags": []
     },
     "output_type": "execute_result"
    }
   ],
   "source": [
    "df.head()"
   ]
  },
  {
   "cell_type": "code",
   "execution_count": 7,
   "metadata": {
    "colab": {
     "base_uri": "https://localhost:8080/",
     "height": 468
    },
    "colab_type": "code",
    "id": "lwR7UgmAMkya",
    "outputId": "820370f9-7a54-4e60-fece-07bb9137461e"
   },
   "outputs": [
    {
     "name": "stdout",
     "output_type": "stream",
     "text": [
      "<class 'pandas.core.frame.DataFrame'>\n",
      "RangeIndex: 40000 entries, 0 to 39999\n",
      "Data columns (total 21 columns):\n",
      "Id                       40000 non-null int64\n",
      "city                     38136 non-null object\n",
      "age                      40000 non-null int64\n",
      "sex                      40000 non-null object\n",
      "social_class             34745 non-null object\n",
      "primary_business         39974 non-null object\n",
      "secondary_business       34759 non-null object\n",
      "annual_income            40000 non-null float64\n",
      "monthly_expenses         39880 non-null float64\n",
      "old_dependents           40000 non-null int64\n",
      "young_dependents         40000 non-null int64\n",
      "home_ownership           39621 non-null float64\n",
      "type_of_house            39306 non-null object\n",
      "occupants_count          40000 non-null int64\n",
      "house_area               40000 non-null float64\n",
      "sanitary_availability    39792 non-null float64\n",
      "water_availabity         34747 non-null float64\n",
      "loan_purpose             39974 non-null object\n",
      "loan_tenure              40000 non-null int64\n",
      "loan_installments        40000 non-null int64\n",
      "loan_amount              40000 non-null float64\n",
      "dtypes: float64(7), int64(7), object(7)\n",
      "memory usage: 6.4+ MB\n"
     ]
    }
   ],
   "source": [
    "df.info()"
   ]
  },
  {
   "cell_type": "code",
   "execution_count": 0,
   "metadata": {
    "colab": {},
    "colab_type": "code",
    "id": "w4_ni7fwMvXj"
   },
   "outputs": [],
   "source": [
    "def resumetable(df):\n",
    "    print(f\"Dataset Shape: {df.shape}\")\n",
    "    summary = pd.DataFrame(df.dtypes,columns=['dtypes'])\n",
    "    summary = summary.reset_index()\n",
    "    summary['Name'] = summary['index']\n",
    "    summary = summary[['Name','dtypes']]\n",
    "    summary['Missing'] = df.isnull().sum().values    \n",
    "    summary['Uniques'] = df.nunique().values\n",
    "    summary['First Value'] = df.loc[0].values\n",
    "    summary['Second Value'] = df.loc[1].values\n",
    "    summary['Third Value'] = df.loc[2].values\n",
    "\n",
    "    for name in summary['Name'].value_counts().index:\n",
    "        summary.loc[summary['Name'] == name, 'Entropy'] = round(stats.entropy(df[name].value_counts(normalize=True), base=10),2) \n",
    "\n",
    "    return summary"
   ]
  },
  {
   "cell_type": "code",
   "execution_count": 9,
   "metadata": {
    "colab": {
     "base_uri": "https://localhost:8080/",
     "height": 710
    },
    "colab_type": "code",
    "id": "3Zk_EUs6MxTF",
    "outputId": "1293e0ba-eaf1-411a-ea8b-831e08d15fb1"
   },
   "outputs": [
    {
     "name": "stdout",
     "output_type": "stream",
     "text": [
      "Dataset Shape: (40000, 21)\n"
     ]
    },
    {
     "data": {
      "text/html": [
       "<div>\n",
       "<style scoped>\n",
       "    .dataframe tbody tr th:only-of-type {\n",
       "        vertical-align: middle;\n",
       "    }\n",
       "\n",
       "    .dataframe tbody tr th {\n",
       "        vertical-align: top;\n",
       "    }\n",
       "\n",
       "    .dataframe thead th {\n",
       "        text-align: right;\n",
       "    }\n",
       "</style>\n",
       "<table border=\"1\" class=\"dataframe\">\n",
       "  <thead>\n",
       "    <tr style=\"text-align: right;\">\n",
       "      <th></th>\n",
       "      <th>Name</th>\n",
       "      <th>dtypes</th>\n",
       "      <th>Missing</th>\n",
       "      <th>Uniques</th>\n",
       "      <th>First Value</th>\n",
       "      <th>Second Value</th>\n",
       "      <th>Third Value</th>\n",
       "      <th>Entropy</th>\n",
       "    </tr>\n",
       "  </thead>\n",
       "  <tbody>\n",
       "    <tr>\n",
       "      <th>0</th>\n",
       "      <td>Id</td>\n",
       "      <td>int64</td>\n",
       "      <td>0</td>\n",
       "      <td>40000</td>\n",
       "      <td>1</td>\n",
       "      <td>2</td>\n",
       "      <td>3</td>\n",
       "      <td>4.60</td>\n",
       "    </tr>\n",
       "    <tr>\n",
       "      <th>1</th>\n",
       "      <td>city</td>\n",
       "      <td>object</td>\n",
       "      <td>1864</td>\n",
       "      <td>856</td>\n",
       "      <td>Dhanbad</td>\n",
       "      <td>Manjapra</td>\n",
       "      <td>Dhanbad</td>\n",
       "      <td>1.99</td>\n",
       "    </tr>\n",
       "    <tr>\n",
       "      <th>2</th>\n",
       "      <td>age</td>\n",
       "      <td>int64</td>\n",
       "      <td>0</td>\n",
       "      <td>62</td>\n",
       "      <td>22</td>\n",
       "      <td>21</td>\n",
       "      <td>24</td>\n",
       "      <td>1.53</td>\n",
       "    </tr>\n",
       "    <tr>\n",
       "      <th>3</th>\n",
       "      <td>sex</td>\n",
       "      <td>object</td>\n",
       "      <td>0</td>\n",
       "      <td>3</td>\n",
       "      <td>F</td>\n",
       "      <td>F</td>\n",
       "      <td>M</td>\n",
       "      <td>0.10</td>\n",
       "    </tr>\n",
       "    <tr>\n",
       "      <th>4</th>\n",
       "      <td>social_class</td>\n",
       "      <td>object</td>\n",
       "      <td>5255</td>\n",
       "      <td>519</td>\n",
       "      <td>Mochi</td>\n",
       "      <td>OBC</td>\n",
       "      <td>Nai</td>\n",
       "      <td>1.38</td>\n",
       "    </tr>\n",
       "    <tr>\n",
       "      <th>5</th>\n",
       "      <td>primary_business</td>\n",
       "      <td>object</td>\n",
       "      <td>26</td>\n",
       "      <td>441</td>\n",
       "      <td>Tailoring</td>\n",
       "      <td>Tailoring</td>\n",
       "      <td>Beauty salon</td>\n",
       "      <td>1.83</td>\n",
       "    </tr>\n",
       "    <tr>\n",
       "      <th>6</th>\n",
       "      <td>secondary_business</td>\n",
       "      <td>object</td>\n",
       "      <td>5241</td>\n",
       "      <td>5</td>\n",
       "      <td>Others</td>\n",
       "      <td>none</td>\n",
       "      <td>Others</td>\n",
       "      <td>0.33</td>\n",
       "    </tr>\n",
       "    <tr>\n",
       "      <th>7</th>\n",
       "      <td>annual_income</td>\n",
       "      <td>float64</td>\n",
       "      <td>0</td>\n",
       "      <td>359</td>\n",
       "      <td>36000</td>\n",
       "      <td>94000</td>\n",
       "      <td>48000</td>\n",
       "      <td>1.48</td>\n",
       "    </tr>\n",
       "    <tr>\n",
       "      <th>8</th>\n",
       "      <td>monthly_expenses</td>\n",
       "      <td>float64</td>\n",
       "      <td>120</td>\n",
       "      <td>260</td>\n",
       "      <td>5000</td>\n",
       "      <td>3600</td>\n",
       "      <td>4000</td>\n",
       "      <td>1.41</td>\n",
       "    </tr>\n",
       "    <tr>\n",
       "      <th>9</th>\n",
       "      <td>old_dependents</td>\n",
       "      <td>int64</td>\n",
       "      <td>0</td>\n",
       "      <td>4</td>\n",
       "      <td>0</td>\n",
       "      <td>1</td>\n",
       "      <td>0</td>\n",
       "      <td>0.08</td>\n",
       "    </tr>\n",
       "    <tr>\n",
       "      <th>10</th>\n",
       "      <td>young_dependents</td>\n",
       "      <td>int64</td>\n",
       "      <td>0</td>\n",
       "      <td>8</td>\n",
       "      <td>2</td>\n",
       "      <td>1</td>\n",
       "      <td>2</td>\n",
       "      <td>0.59</td>\n",
       "    </tr>\n",
       "    <tr>\n",
       "      <th>11</th>\n",
       "      <td>home_ownership</td>\n",
       "      <td>float64</td>\n",
       "      <td>379</td>\n",
       "      <td>2</td>\n",
       "      <td>1</td>\n",
       "      <td>1</td>\n",
       "      <td>1</td>\n",
       "      <td>0.05</td>\n",
       "    </tr>\n",
       "    <tr>\n",
       "      <th>12</th>\n",
       "      <td>type_of_house</td>\n",
       "      <td>object</td>\n",
       "      <td>694</td>\n",
       "      <td>3</td>\n",
       "      <td>R</td>\n",
       "      <td>T1</td>\n",
       "      <td>T1</td>\n",
       "      <td>0.44</td>\n",
       "    </tr>\n",
       "    <tr>\n",
       "      <th>13</th>\n",
       "      <td>occupants_count</td>\n",
       "      <td>int64</td>\n",
       "      <td>0</td>\n",
       "      <td>23</td>\n",
       "      <td>4</td>\n",
       "      <td>4</td>\n",
       "      <td>4</td>\n",
       "      <td>0.77</td>\n",
       "    </tr>\n",
       "    <tr>\n",
       "      <th>14</th>\n",
       "      <td>house_area</td>\n",
       "      <td>float64</td>\n",
       "      <td>0</td>\n",
       "      <td>391</td>\n",
       "      <td>70</td>\n",
       "      <td>80</td>\n",
       "      <td>50</td>\n",
       "      <td>1.54</td>\n",
       "    </tr>\n",
       "    <tr>\n",
       "      <th>15</th>\n",
       "      <td>sanitary_availability</td>\n",
       "      <td>float64</td>\n",
       "      <td>208</td>\n",
       "      <td>3</td>\n",
       "      <td>1</td>\n",
       "      <td>1</td>\n",
       "      <td>1</td>\n",
       "      <td>0.27</td>\n",
       "    </tr>\n",
       "    <tr>\n",
       "      <th>16</th>\n",
       "      <td>water_availabity</td>\n",
       "      <td>float64</td>\n",
       "      <td>5253</td>\n",
       "      <td>4</td>\n",
       "      <td>0.5</td>\n",
       "      <td>0.5</td>\n",
       "      <td>0.5</td>\n",
       "      <td>0.31</td>\n",
       "    </tr>\n",
       "    <tr>\n",
       "      <th>17</th>\n",
       "      <td>loan_purpose</td>\n",
       "      <td>object</td>\n",
       "      <td>26</td>\n",
       "      <td>37</td>\n",
       "      <td>Apparels</td>\n",
       "      <td>Apparels</td>\n",
       "      <td>Beauty Salon</td>\n",
       "      <td>1.14</td>\n",
       "    </tr>\n",
       "    <tr>\n",
       "      <th>18</th>\n",
       "      <td>loan_tenure</td>\n",
       "      <td>int64</td>\n",
       "      <td>0</td>\n",
       "      <td>11</td>\n",
       "      <td>12</td>\n",
       "      <td>12</td>\n",
       "      <td>12</td>\n",
       "      <td>0.05</td>\n",
       "    </tr>\n",
       "    <tr>\n",
       "      <th>19</th>\n",
       "      <td>loan_installments</td>\n",
       "      <td>int64</td>\n",
       "      <td>0</td>\n",
       "      <td>21</td>\n",
       "      <td>12</td>\n",
       "      <td>50</td>\n",
       "      <td>12</td>\n",
       "      <td>0.31</td>\n",
       "    </tr>\n",
       "    <tr>\n",
       "      <th>20</th>\n",
       "      <td>loan_amount</td>\n",
       "      <td>float64</td>\n",
       "      <td>0</td>\n",
       "      <td>115</td>\n",
       "      <td>5000</td>\n",
       "      <td>7500</td>\n",
       "      <td>5000</td>\n",
       "      <td>0.90</td>\n",
       "    </tr>\n",
       "  </tbody>\n",
       "</table>\n",
       "</div>"
      ],
      "text/plain": [
       "                     Name   dtypes  Missing  ...  Second Value   Third Value Entropy\n",
       "0                      Id    int64        0  ...             2             3    4.60\n",
       "1                    city   object     1864  ...      Manjapra       Dhanbad    1.99\n",
       "2                     age    int64        0  ...            21            24    1.53\n",
       "3                     sex   object        0  ...             F             M    0.10\n",
       "4            social_class   object     5255  ...           OBC           Nai    1.38\n",
       "5        primary_business   object       26  ...     Tailoring  Beauty salon    1.83\n",
       "6      secondary_business   object     5241  ...          none        Others    0.33\n",
       "7           annual_income  float64        0  ...         94000         48000    1.48\n",
       "8        monthly_expenses  float64      120  ...          3600          4000    1.41\n",
       "9          old_dependents    int64        0  ...             1             0    0.08\n",
       "10       young_dependents    int64        0  ...             1             2    0.59\n",
       "11         home_ownership  float64      379  ...             1             1    0.05\n",
       "12          type_of_house   object      694  ...            T1            T1    0.44\n",
       "13        occupants_count    int64        0  ...             4             4    0.77\n",
       "14             house_area  float64        0  ...            80            50    1.54\n",
       "15  sanitary_availability  float64      208  ...             1             1    0.27\n",
       "16       water_availabity  float64     5253  ...           0.5           0.5    0.31\n",
       "17           loan_purpose   object       26  ...      Apparels  Beauty Salon    1.14\n",
       "18            loan_tenure    int64        0  ...            12            12    0.05\n",
       "19      loan_installments    int64        0  ...            50            12    0.31\n",
       "20            loan_amount  float64        0  ...          7500          5000    0.90\n",
       "\n",
       "[21 rows x 8 columns]"
      ]
     },
     "execution_count": 9,
     "metadata": {
      "tags": []
     },
     "output_type": "execute_result"
    }
   ],
   "source": [
    "result = resumetable(df)\n",
    "result"
   ]
  },
  {
   "cell_type": "code",
   "execution_count": 10,
   "metadata": {
    "colab": {
     "base_uri": "https://localhost:8080/",
     "height": 509
    },
    "colab_type": "code",
    "id": "aS-rZE21RwMk",
    "outputId": "be40f48f-9490-465f-d97a-fd67cadad80a"
   },
   "outputs": [
    {
     "data": {
      "text/html": [
       "<div>\n",
       "<style scoped>\n",
       "    .dataframe tbody tr th:only-of-type {\n",
       "        vertical-align: middle;\n",
       "    }\n",
       "\n",
       "    .dataframe tbody tr th {\n",
       "        vertical-align: top;\n",
       "    }\n",
       "\n",
       "    .dataframe thead th {\n",
       "        text-align: right;\n",
       "    }\n",
       "</style>\n",
       "<table border=\"1\" class=\"dataframe\">\n",
       "  <thead>\n",
       "    <tr style=\"text-align: right;\">\n",
       "      <th></th>\n",
       "      <th>Total</th>\n",
       "      <th>Percent</th>\n",
       "    </tr>\n",
       "  </thead>\n",
       "  <tbody>\n",
       "    <tr>\n",
       "      <th>social_class</th>\n",
       "      <td>5255</td>\n",
       "      <td>13.1375</td>\n",
       "    </tr>\n",
       "    <tr>\n",
       "      <th>water_availabity</th>\n",
       "      <td>5253</td>\n",
       "      <td>13.1325</td>\n",
       "    </tr>\n",
       "    <tr>\n",
       "      <th>secondary_business</th>\n",
       "      <td>5241</td>\n",
       "      <td>13.1025</td>\n",
       "    </tr>\n",
       "    <tr>\n",
       "      <th>city</th>\n",
       "      <td>1864</td>\n",
       "      <td>4.6600</td>\n",
       "    </tr>\n",
       "    <tr>\n",
       "      <th>type_of_house</th>\n",
       "      <td>694</td>\n",
       "      <td>1.7350</td>\n",
       "    </tr>\n",
       "    <tr>\n",
       "      <th>home_ownership</th>\n",
       "      <td>379</td>\n",
       "      <td>0.9475</td>\n",
       "    </tr>\n",
       "    <tr>\n",
       "      <th>sanitary_availability</th>\n",
       "      <td>208</td>\n",
       "      <td>0.5200</td>\n",
       "    </tr>\n",
       "    <tr>\n",
       "      <th>monthly_expenses</th>\n",
       "      <td>120</td>\n",
       "      <td>0.3000</td>\n",
       "    </tr>\n",
       "    <tr>\n",
       "      <th>loan_purpose</th>\n",
       "      <td>26</td>\n",
       "      <td>0.0650</td>\n",
       "    </tr>\n",
       "    <tr>\n",
       "      <th>primary_business</th>\n",
       "      <td>26</td>\n",
       "      <td>0.0650</td>\n",
       "    </tr>\n",
       "    <tr>\n",
       "      <th>loan_amount</th>\n",
       "      <td>0</td>\n",
       "      <td>0.0000</td>\n",
       "    </tr>\n",
       "    <tr>\n",
       "      <th>age</th>\n",
       "      <td>0</td>\n",
       "      <td>0.0000</td>\n",
       "    </tr>\n",
       "    <tr>\n",
       "      <th>sex</th>\n",
       "      <td>0</td>\n",
       "      <td>0.0000</td>\n",
       "    </tr>\n",
       "    <tr>\n",
       "      <th>young_dependents</th>\n",
       "      <td>0</td>\n",
       "      <td>0.0000</td>\n",
       "    </tr>\n",
       "    <tr>\n",
       "      <th>annual_income</th>\n",
       "      <td>0</td>\n",
       "      <td>0.0000</td>\n",
       "    </tr>\n",
       "  </tbody>\n",
       "</table>\n",
       "</div>"
      ],
      "text/plain": [
       "                       Total  Percent\n",
       "social_class            5255  13.1375\n",
       "water_availabity        5253  13.1325\n",
       "secondary_business      5241  13.1025\n",
       "city                    1864   4.6600\n",
       "type_of_house            694   1.7350\n",
       "home_ownership           379   0.9475\n",
       "sanitary_availability    208   0.5200\n",
       "monthly_expenses         120   0.3000\n",
       "loan_purpose              26   0.0650\n",
       "primary_business          26   0.0650\n",
       "loan_amount                0   0.0000\n",
       "age                        0   0.0000\n",
       "sex                        0   0.0000\n",
       "young_dependents           0   0.0000\n",
       "annual_income              0   0.0000"
      ]
     },
     "execution_count": 10,
     "metadata": {
      "tags": []
     },
     "output_type": "execute_result"
    }
   ],
   "source": [
    "#missing data observing in columns\n",
    "total = df.isnull().sum(axis=0).sort_values(ascending=False)\n",
    "percent = ((df.isnull().sum(axis=0)/df.isnull().count(axis=0))*100).sort_values(ascending=False)\n",
    "\n",
    "# count the number of null values in the column and their perecentage of the total data\n",
    "missing_data_columns = pd.concat([total, percent], axis=1, keys=['Total', 'Percent'])\n",
    "missing_data_columns.head(15)"
   ]
  },
  {
   "cell_type": "code",
   "execution_count": 0,
   "metadata": {
    "colab": {},
    "colab_type": "code",
    "id": "HnWuvtH8NHeT"
   },
   "outputs": [],
   "source": [
    "# Since ID is a unique value in each row, its better to drop the column\n",
    "columns = ['Id']\n",
    "df.drop(columns, inplace=True, axis=1)"
   ]
  },
  {
   "cell_type": "code",
   "execution_count": 0,
   "metadata": {
    "colab": {},
    "colab_type": "code",
    "id": "8k2sK5jQPqW5"
   },
   "outputs": [],
   "source": [
    "# Split df into x and Y\n",
    "target_col = \"loan_amount\"\n",
    "X = df.loc[:, df.columns != target_col]\n",
    "y = df.loc[:, target_col]"
   ]
  },
  {
   "cell_type": "code",
   "execution_count": 13,
   "metadata": {
    "colab": {
     "base_uri": "https://localhost:8080/",
     "height": 35
    },
    "colab_type": "code",
    "id": "mpA8H23shbxi",
    "outputId": "d9fdc028-cdd4-4c78-d275-27236eda646c"
   },
   "outputs": [
    {
     "data": {
      "text/plain": [
       "(40000, 19)"
      ]
     },
     "execution_count": 13,
     "metadata": {
      "tags": []
     },
     "output_type": "execute_result"
    }
   ],
   "source": [
    "X.shape"
   ]
  },
  {
   "cell_type": "code",
   "execution_count": 14,
   "metadata": {
    "colab": {
     "base_uri": "https://localhost:8080/",
     "height": 35
    },
    "colab_type": "code",
    "id": "hhqGP3SHhdZY",
    "outputId": "8d373ff3-24f2-4c0f-d3d7-8bb6ed8e5669"
   },
   "outputs": [
    {
     "data": {
      "text/plain": [
       "(40000,)"
      ]
     },
     "execution_count": 14,
     "metadata": {
      "tags": []
     },
     "output_type": "execute_result"
    }
   ],
   "source": [
    "y.shape"
   ]
  },
  {
   "cell_type": "code",
   "execution_count": 0,
   "metadata": {
    "colab": {},
    "colab_type": "code",
    "id": "Xxx8zW3uPJnz"
   },
   "outputs": [],
   "source": [
    "X_train, X_test, y_train, y_test = train_test_split(X, y, \n",
    "                                                    test_size=0.33, \n",
    "                                                    random_state=42)"
   ]
  },
  {
   "cell_type": "markdown",
   "metadata": {
    "colab_type": "text",
    "id": "T6jYWlgtNuqj"
   },
   "source": [
    "# Imputing missing values"
   ]
  },
  {
   "cell_type": "code",
   "execution_count": 0,
   "metadata": {
    "colab": {},
    "colab_type": "code",
    "id": "mGoSzlQINncK"
   },
   "outputs": [],
   "source": [
    "# Collect column names from X_train which have missing values\n",
    "missing_data_cols = [col for col in X_train.columns if X_train[col].isnull().any()]"
   ]
  },
  {
   "cell_type": "code",
   "execution_count": 17,
   "metadata": {
    "colab": {
     "base_uri": "https://localhost:8080/",
     "height": 52
    },
    "colab_type": "code",
    "id": "7bSlUmYub2Rl",
    "outputId": "3febeb25-b23e-4e08-9eaa-a2ecfea6dc17"
   },
   "outputs": [
    {
     "name": "stdout",
     "output_type": "stream",
     "text": [
      "Number of numeric columns = 12\n",
      "Number of categorical columns = 7\n"
     ]
    }
   ],
   "source": [
    "numerical_feature_columns = list(X_train._get_numeric_data().columns)\n",
    "categorical_feature_columns = list(set(X_train.columns) - set(X_train._get_numeric_data().columns))\n",
    "print (\"Number of numeric columns = {}\".format(len(numerical_feature_columns)))\n",
    "print (\"Number of categorical columns = {}\".format(len(categorical_feature_columns)))"
   ]
  },
  {
   "cell_type": "code",
   "execution_count": 18,
   "metadata": {
    "colab": {
     "base_uri": "https://localhost:8080/",
     "height": 55
    },
    "colab_type": "code",
    "id": "zxix3QEOVw84",
    "outputId": "fd40e4d8-4029-458c-829e-cedd3eee8192"
   },
   "outputs": [
    {
     "name": "stdout",
     "output_type": "stream",
     "text": [
      "['city', 'social_class', 'primary_business', 'secondary_business', 'monthly_expenses', 'home_ownership', 'type_of_house', 'sanitary_availability', 'water_availabity', 'loan_purpose']\n"
     ]
    }
   ],
   "source": [
    "print(missing_data_cols)"
   ]
  },
  {
   "cell_type": "code",
   "execution_count": 19,
   "metadata": {
    "colab": {
     "base_uri": "https://localhost:8080/",
     "height": 277
    },
    "colab_type": "code",
    "id": "y-GoJ6-YOBZq",
    "outputId": "52ea6457-110c-4ab5-e0b6-d648ea53025f"
   },
   "outputs": [
    {
     "name": "stdout",
     "output_type": "stream",
     "text": [
      "<class 'pandas.core.frame.DataFrame'>\n",
      "Int64Index: 26800 entries, 8451 to 15795\n",
      "Data columns (total 10 columns):\n",
      "city                     25559 non-null object\n",
      "social_class             23299 non-null object\n",
      "primary_business         26780 non-null object\n",
      "secondary_business       23305 non-null object\n",
      "monthly_expenses         26727 non-null float64\n",
      "home_ownership           26551 non-null float64\n",
      "type_of_house            26330 non-null object\n",
      "sanitary_availability    26663 non-null float64\n",
      "water_availabity         23300 non-null float64\n",
      "loan_purpose             26780 non-null object\n",
      "dtypes: float64(4), object(6)\n",
      "memory usage: 2.2+ MB\n"
     ]
    }
   ],
   "source": [
    "X_train[missing_data_cols].info()"
   ]
  },
  {
   "cell_type": "code",
   "execution_count": 0,
   "metadata": {
    "colab": {},
    "colab_type": "code",
    "id": "OsmZ0aauakeg"
   },
   "outputs": [],
   "source": [
    "class DataFrameImputer(TransformerMixin):\n",
    "    def __init__(self):\n",
    "        \"\"\"Impute missing values.\n",
    "\n",
    "        Columns of dtype object are imputed with the most frequent value \n",
    "        in column.\n",
    "\n",
    "        Columns of other types are imputed with median of column.\n",
    "\n",
    "        \"\"\"\n",
    "\n",
    "    def fit(self, X, y=None):\n",
    "\n",
    "        self.fill = pd.Series(\n",
    "            [\n",
    "                X[c].value_counts().index[0]\n",
    "                if X[c].dtype == np.dtype(\"O\")\n",
    "                else X[c].median()\n",
    "                for c in X\n",
    "            ],\n",
    "            index=X.columns,\n",
    "        )\n",
    "\n",
    "        return self\n",
    "\n",
    "    def transform(self, X, y=None):\n",
    "        return X.fillna(self.fill)"
   ]
  },
  {
   "cell_type": "code",
   "execution_count": 0,
   "metadata": {
    "colab": {},
    "colab_type": "code",
    "id": "4I1SRwELVbJd"
   },
   "outputs": [],
   "source": [
    "X_train = DataFrameImputer().fit_transform(X_train)"
   ]
  },
  {
   "cell_type": "code",
   "execution_count": 22,
   "metadata": {
    "colab": {
     "base_uri": "https://localhost:8080/",
     "height": 35
    },
    "colab_type": "code",
    "id": "duYPBLOIdkKv",
    "outputId": "18a8ae7d-c599-4317-be4e-1cde09cb89d5"
   },
   "outputs": [
    {
     "data": {
      "text/plain": [
       "[]"
      ]
     },
     "execution_count": 22,
     "metadata": {
      "tags": []
     },
     "output_type": "execute_result"
    }
   ],
   "source": [
    "# Check if there is any column with missing value\n",
    "[col for col in X_train.columns if X_train[col].isnull().any()]"
   ]
  },
  {
   "cell_type": "markdown",
   "metadata": {
    "colab_type": "text",
    "id": "y-J8T9i7ez0o"
   },
   "source": [
    "# Target Variable Distribution"
   ]
  },
  {
   "cell_type": "code",
   "execution_count": 23,
   "metadata": {
    "colab": {
     "base_uri": "https://localhost:8080/",
     "height": 297
    },
    "colab_type": "code",
    "id": "fgY5VfVLeLJc",
    "outputId": "40049223-03f7-4136-dbfa-a08361234fa7"
   },
   "outputs": [
    {
     "data": {
      "text/plain": [
       "<matplotlib.axes._subplots.AxesSubplot at 0x7f00df471080>"
      ]
     },
     "execution_count": 23,
     "metadata": {
      "tags": []
     },
     "output_type": "execute_result"
    },
    {
     "data": {
      "image/png": "[encoded data removed]",
      "text/plain": [
       "<Figure size 432x288 with 1 Axes>"
      ]
     },
     "metadata": {
      "tags": []
     },
     "output_type": "display_data"
    }
   ],
   "source": [
    "sns.distplot(y_train)"
   ]
  },
  {
   "cell_type": "code",
   "execution_count": 24,
   "metadata": {
    "colab": {
     "base_uri": "https://localhost:8080/",
     "height": 173
    },
    "colab_type": "code",
    "id": "2-sl9tQDe5ir",
    "outputId": "e55a772c-362f-45ab-b200-59c68030f7e7"
   },
   "outputs": [
    {
     "data": {
      "text/plain": [
       "count    2.680000e+04\n",
       "mean     8.413123e+03\n",
       "std      1.361398e+04\n",
       "min      2.000000e+02\n",
       "25%      5.000000e+03\n",
       "50%      8.000000e+03\n",
       "75%      1.000000e+04\n",
       "max      1.343000e+06\n",
       "Name: loan_amount, dtype: float64"
      ]
     },
     "execution_count": 24,
     "metadata": {
      "tags": []
     },
     "output_type": "execute_result"
    }
   ],
   "source": [
    "y_train.describe()"
   ]
  },
  {
   "cell_type": "code",
   "execution_count": 25,
   "metadata": {
    "colab": {
     "base_uri": "https://localhost:8080/",
     "height": 35
    },
    "colab_type": "code",
    "id": "SCjCoi7eeY45",
    "outputId": "d53dd9b8-6af4-41d8-f107-15afe1d9562c"
   },
   "outputs": [
    {
     "name": "stdout",
     "output_type": "stream",
     "text": [
      "Skewness: 63.118622\n"
     ]
    }
   ],
   "source": [
    "print(\"Skewness: %f\" % y_train.skew())"
   ]
  },
  {
   "cell_type": "markdown",
   "metadata": {
    "colab_type": "text",
    "id": "URqNXyujfUPt"
   },
   "source": [
    "**The target variable is positively skewed with a mean value close to 8500, we will have to apply transformation to convert it to near normal distribution**"
   ]
  },
  {
   "cell_type": "code",
   "execution_count": 26,
   "metadata": {
    "colab": {
     "base_uri": "https://localhost:8080/",
     "height": 297
    },
    "colab_type": "code",
    "id": "7LmLDOsPehZB",
    "outputId": "d942631d-29cb-4e12-e8b6-afa53888fb8d"
   },
   "outputs": [
    {
     "data": {
      "text/plain": [
       "<matplotlib.axes._subplots.AxesSubplot at 0x7f00df7161d0>"
      ]
     },
     "execution_count": 26,
     "metadata": {
      "tags": []
     },
     "output_type": "execute_result"
    },
    {
     "data": {
      "image/png": "[encoded data removed]",
      "text/plain": [
       "<Figure size 432x288 with 1 Axes>"
      ]
     },
     "metadata": {
      "tags": []
     },
     "output_type": "display_data"
    }
   ],
   "source": [
    "y_train = np.log(y_train)\n",
    "sns.distplot(y_train)"
   ]
  },
  {
   "cell_type": "code",
   "execution_count": 27,
   "metadata": {
    "colab": {
     "base_uri": "https://localhost:8080/",
     "height": 35
    },
    "colab_type": "code",
    "id": "rBKP-C47fk2r",
    "outputId": "ec4f37c9-b0ba-4e8b-9770-ee5756c6d652"
   },
   "outputs": [
    {
     "name": "stdout",
     "output_type": "stream",
     "text": [
      "Skewness: 0.484616\n"
     ]
    }
   ],
   "source": [
    "print(\"Skewness: %f\" % y_train.skew())"
   ]
  },
  {
   "cell_type": "markdown",
   "metadata": {
    "colab_type": "text",
    "id": "L4KPUWnsgHdQ"
   },
   "source": [
    "**We have successfully brought down the skew value from 63 to 0.48 so the distribution is near normal distribution, lets apply the log transformation again to check if we reach even closer to a normal distribution**"
   ]
  },
  {
   "cell_type": "code",
   "execution_count": 28,
   "metadata": {
    "colab": {
     "base_uri": "https://localhost:8080/",
     "height": 297
    },
    "colab_type": "code",
    "id": "BZeBD5LwfmGW",
    "outputId": "4d15af9e-dfa5-48ef-f947-fba130d71ab4"
   },
   "outputs": [
    {
     "data": {
      "text/plain": [
       "<matplotlib.axes._subplots.AxesSubplot at 0x7f00df5a4d30>"
      ]
     },
     "execution_count": 28,
     "metadata": {
      "tags": []
     },
     "output_type": "execute_result"
    },
    {
     "data": {
      "image/png": "[encoded data removed]",
      "text/plain": [
       "<Figure size 432x288 with 1 Axes>"
      ]
     },
     "metadata": {
      "tags": []
     },
     "output_type": "display_data"
    }
   ],
   "source": [
    "y_train = np.log(y_train)\n",
    "sns.distplot(y_train)"
   ]
  },
  {
   "cell_type": "code",
   "execution_count": 29,
   "metadata": {
    "colab": {
     "base_uri": "https://localhost:8080/",
     "height": 35
    },
    "colab_type": "code",
    "id": "i0_jJVVRfziZ",
    "outputId": "3b9f3b5b-b3d6-4530-f37f-803ba2e94c0e"
   },
   "outputs": [
    {
     "name": "stdout",
     "output_type": "stream",
     "text": [
      "Skewness: 0.080278\n"
     ]
    }
   ],
   "source": [
    "print(\"Skewness: %f\" % y_train.skew())"
   ]
  },
  {
   "cell_type": "markdown",
   "metadata": {
    "colab_type": "text",
    "id": "B3cllbhYg3go"
   },
   "source": [
    "**We have successfully reached a near normal distribution by applying log transformation twice**"
   ]
  },
  {
   "cell_type": "markdown",
   "metadata": {
    "colab_type": "text",
    "id": "Z1wAURR2hA_e"
   },
   "source": [
    "# Converting cateogrical columns to Numeric"
   ]
  },
  {
   "cell_type": "code",
   "execution_count": 30,
   "metadata": {
    "colab": {
     "base_uri": "https://localhost:8080/",
     "height": 202
    },
    "colab_type": "code",
    "id": "lvjQJlIJgf8w",
    "outputId": "3fbf8d76-f423-4e74-e089-882b3dd05071"
   },
   "outputs": [
    {
     "data": {
      "text/html": [
       "<div>\n",
       "<style scoped>\n",
       "    .dataframe tbody tr th:only-of-type {\n",
       "        vertical-align: middle;\n",
       "    }\n",
       "\n",
       "    .dataframe tbody tr th {\n",
       "        vertical-align: top;\n",
       "    }\n",
       "\n",
       "    .dataframe thead th {\n",
       "        text-align: right;\n",
       "    }\n",
       "</style>\n",
       "<table border=\"1\" class=\"dataframe\">\n",
       "  <thead>\n",
       "    <tr style=\"text-align: right;\">\n",
       "      <th></th>\n",
       "      <th>city</th>\n",
       "      <th>primary_business</th>\n",
       "      <th>social_class</th>\n",
       "      <th>type_of_house</th>\n",
       "      <th>secondary_business</th>\n",
       "      <th>sex</th>\n",
       "      <th>loan_purpose</th>\n",
       "    </tr>\n",
       "  </thead>\n",
       "  <tbody>\n",
       "    <tr>\n",
       "      <th>8451</th>\n",
       "      <td>Pusad</td>\n",
       "      <td>Fancy Store</td>\n",
       "      <td>OBC</td>\n",
       "      <td>T1</td>\n",
       "      <td>none</td>\n",
       "      <td>F</td>\n",
       "      <td>Retail Store</td>\n",
       "    </tr>\n",
       "    <tr>\n",
       "      <th>28293</th>\n",
       "      <td>Imphal</td>\n",
       "      <td>School</td>\n",
       "      <td>OBC</td>\n",
       "      <td>T2</td>\n",
       "      <td>none</td>\n",
       "      <td>F</td>\n",
       "      <td>Education Loan</td>\n",
       "    </tr>\n",
       "    <tr>\n",
       "      <th>9948</th>\n",
       "      <td>Nuapada</td>\n",
       "      <td>Vegetable vendor</td>\n",
       "      <td>OBC</td>\n",
       "      <td>T1</td>\n",
       "      <td>none</td>\n",
       "      <td>F</td>\n",
       "      <td>Agro Based Businesses</td>\n",
       "    </tr>\n",
       "    <tr>\n",
       "      <th>32270</th>\n",
       "      <td>Balasore</td>\n",
       "      <td>Poultry farm</td>\n",
       "      <td>General</td>\n",
       "      <td>T2</td>\n",
       "      <td>Others</td>\n",
       "      <td>F</td>\n",
       "      <td>Meat Businesses</td>\n",
       "    </tr>\n",
       "    <tr>\n",
       "      <th>39564</th>\n",
       "      <td>Imphal</td>\n",
       "      <td>Weaver</td>\n",
       "      <td>OBC</td>\n",
       "      <td>T2</td>\n",
       "      <td>none</td>\n",
       "      <td>F</td>\n",
       "      <td>Apparels</td>\n",
       "    </tr>\n",
       "  </tbody>\n",
       "</table>\n",
       "</div>"
      ],
      "text/plain": [
       "           city  primary_business  ... sex           loan_purpose\n",
       "8451      Pusad       Fancy Store  ...   F           Retail Store\n",
       "28293    Imphal            School  ...   F         Education Loan\n",
       "9948    Nuapada  Vegetable vendor  ...   F  Agro Based Businesses\n",
       "32270  Balasore      Poultry farm  ...   F        Meat Businesses\n",
       "39564    Imphal            Weaver  ...   F               Apparels\n",
       "\n",
       "[5 rows x 7 columns]"
      ]
     },
     "execution_count": 30,
     "metadata": {
      "tags": []
     },
     "output_type": "execute_result"
    }
   ],
   "source": [
    "X_train[categorical_feature_columns].head()"
   ]
  },
  {
   "cell_type": "code",
   "execution_count": 0,
   "metadata": {
    "colab": {},
    "colab_type": "code",
    "id": "TGHLGaucNR_N"
   },
   "outputs": [],
   "source": [
    "summary = pd.DataFrame(index = X_train[categorical_feature_columns].columns)\n",
    "summary[\"unique\"] = X_train[categorical_feature_columns].nunique().values"
   ]
  },
  {
   "cell_type": "code",
   "execution_count": 32,
   "metadata": {
    "colab": {
     "base_uri": "https://localhost:8080/",
     "height": 263
    },
    "colab_type": "code",
    "id": "ky4Mr55tNSRW",
    "outputId": "8be8ae5f-452c-4b13-e47c-4980e544553c"
   },
   "outputs": [
    {
     "data": {
      "text/html": [
       "<div>\n",
       "<style scoped>\n",
       "    .dataframe tbody tr th:only-of-type {\n",
       "        vertical-align: middle;\n",
       "    }\n",
       "\n",
       "    .dataframe tbody tr th {\n",
       "        vertical-align: top;\n",
       "    }\n",
       "\n",
       "    .dataframe thead th {\n",
       "        text-align: right;\n",
       "    }\n",
       "</style>\n",
       "<table border=\"1\" class=\"dataframe\">\n",
       "  <thead>\n",
       "    <tr style=\"text-align: right;\">\n",
       "      <th></th>\n",
       "      <th>unique</th>\n",
       "    </tr>\n",
       "  </thead>\n",
       "  <tbody>\n",
       "    <tr>\n",
       "      <th>city</th>\n",
       "      <td>749</td>\n",
       "    </tr>\n",
       "    <tr>\n",
       "      <th>primary_business</th>\n",
       "      <td>387</td>\n",
       "    </tr>\n",
       "    <tr>\n",
       "      <th>social_class</th>\n",
       "      <td>428</td>\n",
       "    </tr>\n",
       "    <tr>\n",
       "      <th>type_of_house</th>\n",
       "      <td>3</td>\n",
       "    </tr>\n",
       "    <tr>\n",
       "      <th>secondary_business</th>\n",
       "      <td>5</td>\n",
       "    </tr>\n",
       "    <tr>\n",
       "      <th>sex</th>\n",
       "      <td>3</td>\n",
       "    </tr>\n",
       "    <tr>\n",
       "      <th>loan_purpose</th>\n",
       "      <td>36</td>\n",
       "    </tr>\n",
       "  </tbody>\n",
       "</table>\n",
       "</div>"
      ],
      "text/plain": [
       "                    unique\n",
       "city                   749\n",
       "primary_business       387\n",
       "social_class           428\n",
       "type_of_house            3\n",
       "secondary_business       5\n",
       "sex                      3\n",
       "loan_purpose            36"
      ]
     },
     "execution_count": 32,
     "metadata": {
      "tags": []
     },
     "output_type": "execute_result"
    }
   ],
   "source": [
    "summary"
   ]
  },
  {
   "cell_type": "markdown",
   "metadata": {
    "colab_type": "text",
    "id": "HhebZ9xLPEs5"
   },
   "source": [
    "**secondary_business, type_of_house, sex are nominal variables with low cardinality so we can use one-hot encoding to convert from categorical to numeric**"
   ]
  },
  {
   "cell_type": "code",
   "execution_count": 33,
   "metadata": {
    "colab": {
     "base_uri": "https://localhost:8080/",
     "height": 87
    },
    "colab_type": "code",
    "id": "HnnVz09Hnjik",
    "outputId": "7c7697ef-d8fd-47ce-8097-ee35f6c98b5f"
   },
   "outputs": [
    {
     "data": {
      "text/plain": [
       "F     0.939627\n",
       "M     0.060149\n",
       "TG    0.000224\n",
       "Name: sex, dtype: float64"
      ]
     },
     "execution_count": 33,
     "metadata": {
      "tags": []
     },
     "output_type": "execute_result"
    }
   ],
   "source": [
    "X_train[\"sex\"].value_counts(normalize=True)"
   ]
  },
  {
   "cell_type": "code",
   "execution_count": 34,
   "metadata": {
    "colab": {
     "base_uri": "https://localhost:8080/",
     "height": 121
    },
    "colab_type": "code",
    "id": "zSb5mrqpO_SA",
    "outputId": "278c37d4-04b5-4283-dbdb-064b6972c1d7"
   },
   "outputs": [
    {
     "data": {
      "text/plain": [
       "none                   0.815634\n",
       "Others                 0.065187\n",
       "Daily wage labourer    0.062948\n",
       "Agriculture            0.051978\n",
       "Livestock rearing      0.004254\n",
       "Name: secondary_business, dtype: float64"
      ]
     },
     "execution_count": 34,
     "metadata": {
      "tags": []
     },
     "output_type": "execute_result"
    }
   ],
   "source": [
    "X_train[\"secondary_business\"].value_counts(normalize=True)"
   ]
  },
  {
   "cell_type": "code",
   "execution_count": 35,
   "metadata": {
    "colab": {
     "base_uri": "https://localhost:8080/",
     "height": 87
    },
    "colab_type": "code",
    "id": "LDXpp6s-nzob",
    "outputId": "255ee318-9ab8-46d3-e42f-5744bef2f450"
   },
   "outputs": [
    {
     "data": {
      "text/plain": [
       "T2    0.457985\n",
       "T1    0.378731\n",
       "R     0.163284\n",
       "Name: type_of_house, dtype: float64"
      ]
     },
     "execution_count": 35,
     "metadata": {
      "tags": []
     },
     "output_type": "execute_result"
    }
   ],
   "source": [
    "X_train[\"type_of_house\"].value_counts(normalize=True)"
   ]
  },
  {
   "cell_type": "code",
   "execution_count": 0,
   "metadata": {
    "colab": {},
    "colab_type": "code",
    "id": "t7TgUjxzhFq7"
   },
   "outputs": [],
   "source": [
    "X_train = pd.get_dummies(X_train, \n",
    "                         columns=[\"sex\", \"type_of_house\", \"secondary_business\"], \n",
    "                         prefix=[\"gender\", \"house_type\", \"sec_business\"], \n",
    "                         drop_first=True)"
   ]
  },
  {
   "cell_type": "code",
   "execution_count": 37,
   "metadata": {
    "colab": {
     "base_uri": "https://localhost:8080/",
     "height": 659
    },
    "colab_type": "code",
    "id": "FQGSeC9rivBy",
    "outputId": "10090b53-62b0-41d6-dbfc-3b5333df3a18"
   },
   "outputs": [
    {
     "data": {
      "text/plain": [
       "Apparels                           0.178545\n",
       "Agro Based Businesses              0.119552\n",
       "Animal husbandry                   0.107985\n",
       "Meat Businesses                    0.107313\n",
       "Handicrafts                        0.104925\n",
       "Farming/ Agriculture               0.083284\n",
       "Education Loan                     0.052090\n",
       "Retail Store                       0.050299\n",
       "Eateries                           0.045373\n",
       "Business Services - II             0.021493\n",
       "Tobacco Related Activities         0.021082\n",
       "Construction Related Activities    0.015858\n",
       "Retail Sale                        0.014888\n",
       "Artifical Jewellry Selling         0.014216\n",
       "Carpentery work                    0.007724\n",
       "Business Services - I              0.007351\n",
       "Food Items                         0.007164\n",
       "Flower Business                    0.005896\n",
       "Transportation Services            0.005746\n",
       "Beauty Salon                       0.005112\n",
       "Repair Services                    0.004515\n",
       "Laundry Services                   0.004067\n",
       "Sanitation                         0.002799\n",
       "Recycling/ Waste Management        0.002649\n",
       "Agarbatti Business                 0.002500\n",
       "Utensil Selling                    0.002425\n",
       "Others                             0.001642\n",
       "Vocational Loans                   0.001007\n",
       "Jewellry Shop                      0.000821\n",
       "Training                           0.000597\n",
       "Miscellaneous                      0.000410\n",
       "Cyber Caf_                         0.000187\n",
       "Tent Services                      0.000149\n",
       "Cable TV Services                  0.000149\n",
       "Tuition Centre                     0.000112\n",
       "Professional                       0.000075\n",
       "Name: loan_purpose, dtype: float64"
      ]
     },
     "execution_count": 37,
     "metadata": {
      "tags": []
     },
     "output_type": "execute_result"
    }
   ],
   "source": [
    "X_train[\"loan_purpose\"].value_counts(normalize=True)"
   ]
  },
  {
   "cell_type": "markdown",
   "metadata": {
    "colab_type": "text",
    "id": "_gWyBuv-RDT8"
   },
   "source": [
    "**Since the remaining categorical columns are highly cardinal in nature, I make use of hashing & frequency encoding to encode the variables**"
   ]
  },
  {
   "cell_type": "code",
   "execution_count": 0,
   "metadata": {
    "colab": {},
    "colab_type": "code",
    "id": "eoHKP565RbbB"
   },
   "outputs": [],
   "source": [
    "high_card_feats = [\"loan_purpose\", \"primary_business\", \"city\", \"social_class\"]"
   ]
  },
  {
   "cell_type": "code",
   "execution_count": 0,
   "metadata": {
    "colab": {},
    "colab_type": "code",
    "id": "37moMZZ7skp_"
   },
   "outputs": [],
   "source": [
    "def frequency_encoding(df, inp_column):\n",
    "    fe = df.groupby(inp_column).size()/len(df)\n",
    "    return df[inp_column].map(fe)"
   ]
  },
  {
   "cell_type": "code",
   "execution_count": 0,
   "metadata": {
    "colab": {},
    "colab_type": "code",
    "id": "yl5y0PdGTQGC"
   },
   "outputs": [],
   "source": [
    "for col in high_card_feats:\n",
    "    X_train[col] = frequency_encoding(X_train, col)"
   ]
  },
  {
   "cell_type": "code",
   "execution_count": 0,
   "metadata": {
    "colab": {},
    "colab_type": "code",
    "id": "_7ZKojw4HThQ"
   },
   "outputs": [],
   "source": [
    "Y_train = pd.DataFrame(y_train, columns=[target_col])\n",
    "train_df =  pd.concat([X_train, Y_train], axis=1, sort=False)"
   ]
  },
  {
   "cell_type": "code",
   "execution_count": 0,
   "metadata": {
    "colab": {},
    "colab_type": "code",
    "id": "7GiBc603HbXY"
   },
   "outputs": [],
   "source": [
    "numcorr = train_df.corr()\n",
    "Num = numcorr[target_col].sort_values(ascending=False).head(10).to_frame()\n",
    "cm = sns.light_palette(\"cyan\", as_cmap=True)\n",
    "s = Num.style.background_gradient(cmap=cm)"
   ]
  },
  {
   "cell_type": "code",
   "execution_count": 43,
   "metadata": {
    "colab": {
     "base_uri": "https://localhost:8080/",
     "height": 247
    },
    "colab_type": "code",
    "id": "D9JTrxnbk_t1",
    "outputId": "7e1350cc-5866-4d71-c720-72152967ef28"
   },
   "outputs": [
    {
     "data": {
      "text/html": [
       "<style  type=\"text/css\" >\n",
       "    #T_a9d7d992_1115_11ea_8451_0242ac1c0002row0_col0 {\n",
       "            background-color:  #00ffff;\n",
       "            color:  #000000;\n",
       "        }    #T_a9d7d992_1115_11ea_8451_0242ac1c0002row1_col0 {\n",
       "            background-color:  #9effff;\n",
       "            color:  #000000;\n",
       "        }    #T_a9d7d992_1115_11ea_8451_0242ac1c0002row2_col0 {\n",
       "            background-color:  #c6ffff;\n",
       "            color:  #000000;\n",
       "        }    #T_a9d7d992_1115_11ea_8451_0242ac1c0002row3_col0 {\n",
       "            background-color:  #c8ffff;\n",
       "            color:  #000000;\n",
       "        }    #T_a9d7d992_1115_11ea_8451_0242ac1c0002row4_col0 {\n",
       "            background-color:  #d3ffff;\n",
       "            color:  #000000;\n",
       "        }    #T_a9d7d992_1115_11ea_8451_0242ac1c0002row5_col0 {\n",
       "            background-color:  #d4ffff;\n",
       "            color:  #000000;\n",
       "        }    #T_a9d7d992_1115_11ea_8451_0242ac1c0002row6_col0 {\n",
       "            background-color:  #d6ffff;\n",
       "            color:  #000000;\n",
       "        }    #T_a9d7d992_1115_11ea_8451_0242ac1c0002row7_col0 {\n",
       "            background-color:  #d7ffff;\n",
       "            color:  #000000;\n",
       "        }    #T_a9d7d992_1115_11ea_8451_0242ac1c0002row8_col0 {\n",
       "            background-color:  #e3ffff;\n",
       "            color:  #000000;\n",
       "        }    #T_a9d7d992_1115_11ea_8451_0242ac1c0002row9_col0 {\n",
       "            background-color:  #e5ffff;\n",
       "            color:  #000000;\n",
       "        }</style><table id=\"T_a9d7d992_1115_11ea_8451_0242ac1c0002\" ><thead>    <tr>        <th class=\"blank level0\" ></th>        <th class=\"col_heading level0 col0\" >loan_amount</th>    </tr></thead><tbody>\n",
       "                <tr>\n",
       "                        <th id=\"T_a9d7d992_1115_11ea_8451_0242ac1c0002level0_row0\" class=\"row_heading level0 row0\" >loan_amount</th>\n",
       "                        <td id=\"T_a9d7d992_1115_11ea_8451_0242ac1c0002row0_col0\" class=\"data row0 col0\" >1</td>\n",
       "            </tr>\n",
       "            <tr>\n",
       "                        <th id=\"T_a9d7d992_1115_11ea_8451_0242ac1c0002level0_row1\" class=\"row_heading level0 row1\" >annual_income</th>\n",
       "                        <td id=\"T_a9d7d992_1115_11ea_8451_0242ac1c0002row1_col0\" class=\"data row1 col0\" >0.350691</td>\n",
       "            </tr>\n",
       "            <tr>\n",
       "                        <th id=\"T_a9d7d992_1115_11ea_8451_0242ac1c0002level0_row2\" class=\"row_heading level0 row2\" >city</th>\n",
       "                        <td id=\"T_a9d7d992_1115_11ea_8451_0242ac1c0002row2_col0\" class=\"data row2 col0\" >0.188384</td>\n",
       "            </tr>\n",
       "            <tr>\n",
       "                        <th id=\"T_a9d7d992_1115_11ea_8451_0242ac1c0002level0_row3\" class=\"row_heading level0 row3\" >sanitary_availability</th>\n",
       "                        <td id=\"T_a9d7d992_1115_11ea_8451_0242ac1c0002row3_col0\" class=\"data row3 col0\" >0.180462</td>\n",
       "            </tr>\n",
       "            <tr>\n",
       "                        <th id=\"T_a9d7d992_1115_11ea_8451_0242ac1c0002level0_row4\" class=\"row_heading level0 row4\" >young_dependents</th>\n",
       "                        <td id=\"T_a9d7d992_1115_11ea_8451_0242ac1c0002row4_col0\" class=\"data row4 col0\" >0.136433</td>\n",
       "            </tr>\n",
       "            <tr>\n",
       "                        <th id=\"T_a9d7d992_1115_11ea_8451_0242ac1c0002level0_row5\" class=\"row_heading level0 row5\" >loan_tenure</th>\n",
       "                        <td id=\"T_a9d7d992_1115_11ea_8451_0242ac1c0002row5_col0\" class=\"data row5 col0\" >0.130684</td>\n",
       "            </tr>\n",
       "            <tr>\n",
       "                        <th id=\"T_a9d7d992_1115_11ea_8451_0242ac1c0002level0_row6\" class=\"row_heading level0 row6\" >loan_installments</th>\n",
       "                        <td id=\"T_a9d7d992_1115_11ea_8451_0242ac1c0002row6_col0\" class=\"data row6 col0\" >0.123016</td>\n",
       "            </tr>\n",
       "            <tr>\n",
       "                        <th id=\"T_a9d7d992_1115_11ea_8451_0242ac1c0002level0_row7\" class=\"row_heading level0 row7\" >water_availabity</th>\n",
       "                        <td id=\"T_a9d7d992_1115_11ea_8451_0242ac1c0002row7_col0\" class=\"data row7 col0\" >0.118796</td>\n",
       "            </tr>\n",
       "            <tr>\n",
       "                        <th id=\"T_a9d7d992_1115_11ea_8451_0242ac1c0002level0_row8\" class=\"row_heading level0 row8\" >house_area</th>\n",
       "                        <td id=\"T_a9d7d992_1115_11ea_8451_0242ac1c0002row8_col0\" class=\"data row8 col0\" >0.0728074</td>\n",
       "            </tr>\n",
       "            <tr>\n",
       "                        <th id=\"T_a9d7d992_1115_11ea_8451_0242ac1c0002level0_row9\" class=\"row_heading level0 row9\" >sec_business_none</th>\n",
       "                        <td id=\"T_a9d7d992_1115_11ea_8451_0242ac1c0002row9_col0\" class=\"data row9 col0\" >0.0585492</td>\n",
       "            </tr>\n",
       "    </tbody></table>"
      ],
      "text/plain": [
       "<pandas.io.formats.style.Styler at 0x7f00de21a860>"
      ]
     },
     "execution_count": 43,
     "metadata": {
      "tags": []
     },
     "output_type": "execute_result"
    }
   ],
   "source": [
    "s"
   ]
  },
  {
   "cell_type": "code",
   "execution_count": 44,
   "metadata": {
    "colab": {
     "base_uri": "https://localhost:8080/",
     "height": 595
    },
    "colab_type": "code",
    "id": "DTzh2s3_k_zj",
    "outputId": "fdb27f5f-522a-4879-c44f-86ba3a870297"
   },
   "outputs": [
    {
     "data": {
      "text/plain": [
       "<matplotlib.axes._subplots.AxesSubplot at 0x7f00df94f0b8>"
      ]
     },
     "execution_count": 44,
     "metadata": {
      "tags": []
     },
     "output_type": "execute_result"
    },
    {
     "data": {
      "image/png": "[encoded data removed]",
      "text/plain": [
       "<Figure size 1152x576 with 2 Axes>"
      ]
     },
     "metadata": {
      "tags": []
     },
     "output_type": "display_data"
    }
   ],
   "source": [
    "k = 10 #number of variables for heatmap\n",
    "cols = train_df.corr().nlargest(k, target_col)[target_col].index\n",
    "cm = train_df[cols].corr()\n",
    "plt.figure(figsize=(16,8))\n",
    "sns.heatmap(cm, annot=True, cmap = 'viridis')"
   ]
  },
  {
   "cell_type": "markdown",
   "metadata": {
    "colab_type": "text",
    "id": "XrEIpkvgukCR"
   },
   "source": [
    "# Removing Multicolinearity using VIF"
   ]
  },
  {
   "cell_type": "code",
   "execution_count": 0,
   "metadata": {
    "colab": {},
    "colab_type": "code",
    "id": "gGzxvyYqucTs"
   },
   "outputs": [],
   "source": [
    "col_vif_dict = {}\n",
    "for cols in X_train.columns:\n",
    "    y = X_train.loc[:, X_train.columns == cols]\n",
    "    x = X_train.loc[:, X_train.columns != cols]\n",
    "    model = sm.OLS(y, x)\n",
    "    results = model.fit()\n",
    "    rsq = results.rsquared\n",
    "    vif = round(1 / (1 - rsq), 2)\n",
    "    col_vif_dict[cols] = vif"
   ]
  },
  {
   "cell_type": "code",
   "execution_count": 46,
   "metadata": {
    "colab": {
     "base_uri": "https://localhost:8080/",
     "height": 433
    },
    "colab_type": "code",
    "id": "GRoJqlsMucXE",
    "outputId": "0991c52f-15bb-412d-c799-fae575b6aa34"
   },
   "outputs": [
    {
     "data": {
      "text/plain": [
       "{'age': 1.0,\n",
       " 'annual_income': 3.38,\n",
       " 'city': 1.99,\n",
       " 'gender_M': 0.05,\n",
       " 'gender_TG': 1.0,\n",
       " 'home_ownership': 27.94,\n",
       " 'house_area': 1.23,\n",
       " 'house_type_T1': 0.06,\n",
       " 'house_type_T2': 0.08,\n",
       " 'loan_installments': 3.66,\n",
       " 'loan_purpose': 7.69,\n",
       " 'loan_tenure': 41.64,\n",
       " 'monthly_expenses': 1.81,\n",
       " 'occupants_count': 1.0,\n",
       " 'old_dependents': 1.08,\n",
       " 'primary_business': 3.63,\n",
       " 'sanitary_availability': 3.99,\n",
       " 'sec_business_Daily wage labourer': 0.2,\n",
       " 'sec_business_Livestock rearing': 1.08,\n",
       " 'sec_business_Others': 0.27,\n",
       " 'sec_business_none': 0.07,\n",
       " 'social_class': 2.5,\n",
       " 'water_availabity': 11.39,\n",
       " 'young_dependents': 2.5}"
      ]
     },
     "execution_count": 46,
     "metadata": {
      "tags": []
     },
     "output_type": "execute_result"
    }
   ],
   "source": [
    "col_vif_dict"
   ]
  },
  {
   "cell_type": "markdown",
   "metadata": {
    "colab_type": "text",
    "id": "ZiOzg4I0wTS0"
   },
   "source": [
    "A rule of thumb commonly used in practice is if a VIF is > 10, you have high multicollinearity."
   ]
  },
  {
   "cell_type": "code",
   "execution_count": 0,
   "metadata": {
    "colab": {},
    "colab_type": "code",
    "id": "e3kMkfnHuS84"
   },
   "outputs": [],
   "source": [
    "multicolinear_features = [key for key,value in col_vif_dict.items() if value > 10]"
   ]
  },
  {
   "cell_type": "code",
   "execution_count": 48,
   "metadata": {
    "colab": {
     "base_uri": "https://localhost:8080/",
     "height": 35
    },
    "colab_type": "code",
    "id": "ZaUMYp0ywH05",
    "outputId": "4807def8-127b-4ea0-9bf3-1c27e6314e16"
   },
   "outputs": [
    {
     "data": {
      "text/plain": [
       "['home_ownership', 'water_availabity', 'loan_tenure']"
      ]
     },
     "execution_count": 48,
     "metadata": {
      "tags": []
     },
     "output_type": "execute_result"
    }
   ],
   "source": [
    "multicolinear_features"
   ]
  },
  {
   "cell_type": "code",
   "execution_count": 0,
   "metadata": {
    "colab": {},
    "colab_type": "code",
    "id": "kTRRUFTTwH56"
   },
   "outputs": [],
   "source": [
    "X_train.drop(multicolinear_features, inplace=True, axis=1)"
   ]
  },
  {
   "cell_type": "code",
   "execution_count": 0,
   "metadata": {
    "colab": {},
    "colab_type": "code",
    "id": "Jyfgomsm0qt1"
   },
   "outputs": [],
   "source": [
    "# Normalizing the Data\n",
    "X_train = (X_train - X_train.mean())/X_train.std()"
   ]
  },
  {
   "cell_type": "code",
   "execution_count": 0,
   "metadata": {
    "colab": {},
    "colab_type": "code",
    "id": "y74hpdmGlNdA"
   },
   "outputs": [],
   "source": [
    "def gradient_descent(X, y, alpha, max_iterations, is_intercept, tolerance):\n",
    "    i_out = 0\n",
    "    if is_intercept == 1:\n",
    "        ones = np.ones([X.shape[0], 1])\n",
    "        X = np.concatenate((ones, X), axis=1)\n",
    "    cost_history = np.zeros(max_iterations)\n",
    "    num_examples, num_features = np.shape(X)\n",
    "    theta = np.ones(num_features)\n",
    "    x_transposed = X.transpose()\n",
    "    for i in range(max_iterations):\n",
    "        # difference between our output and actual values\n",
    "        diffs = np.dot(X, theta) - y\n",
    "        # sum of the squares\n",
    "        cost_history[i] = np.sum(diffs ** 2) / (2 * num_examples)\n",
    "        # calculate averge gradient for every example\n",
    "        gradient = np.dot(x_transposed, diffs) / num_examples\n",
    "        # update the coeffcients\n",
    "        theta -= alpha * gradient\n",
    "        if cost_history[i] < tolerance:\n",
    "            print (\"Final Cost {} and iteration = {} \".format(cost_history[i], i))\n",
    "            return cost_history, theta, i\n",
    "    print (\"Final Cost {}\".format(cost_history[i]))\n",
    "    return cost_history, theta, i_out"
   ]
  },
  {
   "cell_type": "code",
   "execution_count": 0,
   "metadata": {
    "colab": {},
    "colab_type": "code",
    "id": "-xZtGyIvlNZk"
   },
   "outputs": [],
   "source": [
    "num_iterations = 50000\n",
    "alpha = 0.001\n",
    "is_intercept = 1\n",
    "tolerance = 0.1"
   ]
  },
  {
   "cell_type": "code",
   "execution_count": 53,
   "metadata": {
    "colab": {
     "base_uri": "https://localhost:8080/",
     "height": 35
    },
    "colab_type": "code",
    "id": "tWBGxNhzlNWs",
    "outputId": "598b81e4-81b3-483b-b63a-b36424791ff8"
   },
   "outputs": [
    {
     "name": "stdout",
     "output_type": "stream",
     "text": [
      "Final Cost 0.09995875902100126 and iteration = 4496 \n"
     ]
    }
   ],
   "source": [
    "cost, theta, total_iterations = gradient_descent(X_train.values, y_train.values, alpha, num_iterations , is_intercept, tolerance)"
   ]
  },
  {
   "cell_type": "code",
   "execution_count": 54,
   "metadata": {
    "colab": {
     "base_uri": "https://localhost:8080/",
     "height": 497
    },
    "colab_type": "code",
    "id": "bEkCw72PlatL",
    "outputId": "ecc51820-f8ce-4f3b-a672-1ea6225e88d8"
   },
   "outputs": [
    {
     "data": {
      "image/png": "[encoded data removed]",
      "text/plain": [
       "<Figure size 864x576 with 1 Axes>"
      ]
     },
     "metadata": {
      "tags": []
     },
     "output_type": "display_data"
    }
   ],
   "source": [
    "fig,ax = plt.subplots(figsize=(12,8))\n",
    "ax.set_ylabel('J(Theta)')\n",
    "ax.set_xlabel('Iterations')\n",
    "_ = ax.plot(range(total_iterations),cost[:total_iterations],'b.')"
   ]
  },
  {
   "cell_type": "code",
   "execution_count": 0,
   "metadata": {
    "colab": {},
    "colab_type": "code",
    "id": "rzXnF97Blao-"
   },
   "outputs": [],
   "source": [
    "def predict(x, theta):\n",
    "\t\treturn np.dot(x, theta)"
   ]
  },
  {
   "cell_type": "code",
   "execution_count": 56,
   "metadata": {
    "colab": {
     "base_uri": "https://localhost:8080/",
     "height": 35
    },
    "colab_type": "code",
    "id": "Wu9NeRF9lak9",
    "outputId": "665b4548-ad60-4b4f-8392-b6ca38056a49"
   },
   "outputs": [
    {
     "name": "stdout",
     "output_type": "stream",
     "text": [
      "RMSE for training: 0.1998\n"
     ]
    }
   ],
   "source": [
    "ones = np.ones([X_train.shape[0], 1])\n",
    "X = np.concatenate((ones, X_train), axis=1)\n",
    "y_train_predict = predict(X, theta)\n",
    "rmse_train = mean_squared_error(y_train_predict, y_train)\n",
    "print('RMSE for training: {}'.format(round(rmse_train,4)))"
   ]
  },
  {
   "cell_type": "code",
   "execution_count": 0,
   "metadata": {
    "colab": {},
    "colab_type": "code",
    "id": "0ovZ-HdGutsc"
   },
   "outputs": [],
   "source": [
    "def generate_regression_values(X, y, theta, col_names):\n",
    "    cols = [\"constant\"]\n",
    "    predictions = np.dot(X, theta)\n",
    "    MSE = (sum((y - predictions) ** 2)) / (X.shape[0] - X.shape[1])\n",
    "    var_b = MSE * (np.linalg.inv(np.dot(X.T, X)).diagonal())\n",
    "    sd_b = np.sqrt(var_b)\n",
    "    ts_b = theta / sd_b\n",
    "    p_values = [2 * (1 - stats.t.cdf(np.abs(i), (X.shape[0] - 1))) for i in ts_b]\n",
    "    cols.extend(col_names)\n",
    "    sd_b = np.round(sd_b, 3)\n",
    "    ts_b = np.round(ts_b, 3)\n",
    "    p_values = np.round(p_values, 3)\n",
    "    theta = np.round(theta, 4)\n",
    "    myDF3 = pd.DataFrame()\n",
    "    myDF3[\"Features\"], myDF3[\"Coefficients\"], myDF3[\"Standard Errors\"], myDF3[\n",
    "        \"t values\"\n",
    "    ], myDF3[\"Probabilites\"] = [cols, theta, sd_b, ts_b, p_values]\n",
    "    return myDF3"
   ]
  },
  {
   "cell_type": "code",
   "execution_count": 58,
   "metadata": {
    "colab": {
     "base_uri": "https://localhost:8080/",
     "height": 723
    },
    "colab_type": "code",
    "id": "c4yfToW7u2rX",
    "outputId": "14d6031b-7bc5-41de-a46b-668766c65458"
   },
   "outputs": [
    {
     "data": {
      "text/html": [
       "<div>\n",
       "<style scoped>\n",
       "    .dataframe tbody tr th:only-of-type {\n",
       "        vertical-align: middle;\n",
       "    }\n",
       "\n",
       "    .dataframe tbody tr th {\n",
       "        vertical-align: top;\n",
       "    }\n",
       "\n",
       "    .dataframe thead th {\n",
       "        text-align: right;\n",
       "    }\n",
       "</style>\n",
       "<table border=\"1\" class=\"dataframe\">\n",
       "  <thead>\n",
       "    <tr style=\"text-align: right;\">\n",
       "      <th></th>\n",
       "      <th>Features</th>\n",
       "      <th>Coefficients</th>\n",
       "      <th>Standard Errors</th>\n",
       "      <th>t values</th>\n",
       "      <th>Probabilites</th>\n",
       "    </tr>\n",
       "  </thead>\n",
       "  <tbody>\n",
       "    <tr>\n",
       "      <th>0</th>\n",
       "      <td>constant</td>\n",
       "      <td>2.1759</td>\n",
       "      <td>0.003</td>\n",
       "      <td>796.505</td>\n",
       "      <td>0.000</td>\n",
       "    </tr>\n",
       "    <tr>\n",
       "      <th>1</th>\n",
       "      <td>city</td>\n",
       "      <td>-0.0099</td>\n",
       "      <td>0.003</td>\n",
       "      <td>-3.354</td>\n",
       "      <td>0.001</td>\n",
       "    </tr>\n",
       "    <tr>\n",
       "      <th>2</th>\n",
       "      <td>age</td>\n",
       "      <td>0.0112</td>\n",
       "      <td>0.003</td>\n",
       "      <td>4.103</td>\n",
       "      <td>0.000</td>\n",
       "    </tr>\n",
       "    <tr>\n",
       "      <th>3</th>\n",
       "      <td>social_class</td>\n",
       "      <td>0.0991</td>\n",
       "      <td>0.003</td>\n",
       "      <td>32.312</td>\n",
       "      <td>0.000</td>\n",
       "    </tr>\n",
       "    <tr>\n",
       "      <th>4</th>\n",
       "      <td>primary_business</td>\n",
       "      <td>0.0211</td>\n",
       "      <td>0.004</td>\n",
       "      <td>5.849</td>\n",
       "      <td>0.000</td>\n",
       "    </tr>\n",
       "    <tr>\n",
       "      <th>5</th>\n",
       "      <td>annual_income</td>\n",
       "      <td>0.0848</td>\n",
       "      <td>0.003</td>\n",
       "      <td>28.061</td>\n",
       "      <td>0.000</td>\n",
       "    </tr>\n",
       "    <tr>\n",
       "      <th>6</th>\n",
       "      <td>monthly_expenses</td>\n",
       "      <td>0.0050</td>\n",
       "      <td>0.003</td>\n",
       "      <td>1.773</td>\n",
       "      <td>0.076</td>\n",
       "    </tr>\n",
       "    <tr>\n",
       "      <th>7</th>\n",
       "      <td>old_dependents</td>\n",
       "      <td>0.0164</td>\n",
       "      <td>0.003</td>\n",
       "      <td>5.909</td>\n",
       "      <td>0.000</td>\n",
       "    </tr>\n",
       "    <tr>\n",
       "      <th>8</th>\n",
       "      <td>young_dependents</td>\n",
       "      <td>0.0442</td>\n",
       "      <td>0.003</td>\n",
       "      <td>15.014</td>\n",
       "      <td>0.000</td>\n",
       "    </tr>\n",
       "    <tr>\n",
       "      <th>9</th>\n",
       "      <td>occupants_count</td>\n",
       "      <td>0.0191</td>\n",
       "      <td>0.003</td>\n",
       "      <td>6.972</td>\n",
       "      <td>0.000</td>\n",
       "    </tr>\n",
       "    <tr>\n",
       "      <th>10</th>\n",
       "      <td>house_area</td>\n",
       "      <td>0.0443</td>\n",
       "      <td>0.003</td>\n",
       "      <td>15.806</td>\n",
       "      <td>0.000</td>\n",
       "    </tr>\n",
       "    <tr>\n",
       "      <th>11</th>\n",
       "      <td>sanitary_availability</td>\n",
       "      <td>0.0055</td>\n",
       "      <td>0.003</td>\n",
       "      <td>1.802</td>\n",
       "      <td>0.072</td>\n",
       "    </tr>\n",
       "    <tr>\n",
       "      <th>12</th>\n",
       "      <td>loan_purpose</td>\n",
       "      <td>-0.0034</td>\n",
       "      <td>0.004</td>\n",
       "      <td>-0.932</td>\n",
       "      <td>0.351</td>\n",
       "    </tr>\n",
       "    <tr>\n",
       "      <th>13</th>\n",
       "      <td>loan_installments</td>\n",
       "      <td>0.0798</td>\n",
       "      <td>0.003</td>\n",
       "      <td>25.282</td>\n",
       "      <td>0.000</td>\n",
       "    </tr>\n",
       "    <tr>\n",
       "      <th>14</th>\n",
       "      <td>gender_M</td>\n",
       "      <td>0.0727</td>\n",
       "      <td>0.003</td>\n",
       "      <td>25.795</td>\n",
       "      <td>0.000</td>\n",
       "    </tr>\n",
       "    <tr>\n",
       "      <th>15</th>\n",
       "      <td>gender_TG</td>\n",
       "      <td>0.0114</td>\n",
       "      <td>0.003</td>\n",
       "      <td>4.180</td>\n",
       "      <td>0.000</td>\n",
       "    </tr>\n",
       "    <tr>\n",
       "      <th>16</th>\n",
       "      <td>house_type_T1</td>\n",
       "      <td>0.2749</td>\n",
       "      <td>0.004</td>\n",
       "      <td>68.305</td>\n",
       "      <td>0.000</td>\n",
       "    </tr>\n",
       "    <tr>\n",
       "      <th>17</th>\n",
       "      <td>house_type_T2</td>\n",
       "      <td>0.2850</td>\n",
       "      <td>0.004</td>\n",
       "      <td>69.763</td>\n",
       "      <td>0.000</td>\n",
       "    </tr>\n",
       "    <tr>\n",
       "      <th>18</th>\n",
       "      <td>sec_business_Daily wage labourer</td>\n",
       "      <td>0.4355</td>\n",
       "      <td>0.004</td>\n",
       "      <td>108.864</td>\n",
       "      <td>0.000</td>\n",
       "    </tr>\n",
       "    <tr>\n",
       "      <th>19</th>\n",
       "      <td>sec_business_Livestock rearing</td>\n",
       "      <td>0.1253</td>\n",
       "      <td>0.003</td>\n",
       "      <td>44.168</td>\n",
       "      <td>0.000</td>\n",
       "    </tr>\n",
       "    <tr>\n",
       "      <th>20</th>\n",
       "      <td>sec_business_Others</td>\n",
       "      <td>0.4964</td>\n",
       "      <td>0.004</td>\n",
       "      <td>122.046</td>\n",
       "      <td>0.000</td>\n",
       "    </tr>\n",
       "    <tr>\n",
       "      <th>21</th>\n",
       "      <td>sec_business_none</td>\n",
       "      <td>0.6177</td>\n",
       "      <td>0.005</td>\n",
       "      <td>126.779</td>\n",
       "      <td>0.000</td>\n",
       "    </tr>\n",
       "  </tbody>\n",
       "</table>\n",
       "</div>"
      ],
      "text/plain": [
       "                            Features  Coefficients  ...  t values  Probabilites\n",
       "0                           constant        2.1759  ...   796.505         0.000\n",
       "1                               city       -0.0099  ...    -3.354         0.001\n",
       "2                                age        0.0112  ...     4.103         0.000\n",
       "3                       social_class        0.0991  ...    32.312         0.000\n",
       "4                   primary_business        0.0211  ...     5.849         0.000\n",
       "5                      annual_income        0.0848  ...    28.061         0.000\n",
       "6                   monthly_expenses        0.0050  ...     1.773         0.076\n",
       "7                     old_dependents        0.0164  ...     5.909         0.000\n",
       "8                   young_dependents        0.0442  ...    15.014         0.000\n",
       "9                    occupants_count        0.0191  ...     6.972         0.000\n",
       "10                        house_area        0.0443  ...    15.806         0.000\n",
       "11             sanitary_availability        0.0055  ...     1.802         0.072\n",
       "12                      loan_purpose       -0.0034  ...    -0.932         0.351\n",
       "13                 loan_installments        0.0798  ...    25.282         0.000\n",
       "14                          gender_M        0.0727  ...    25.795         0.000\n",
       "15                         gender_TG        0.0114  ...     4.180         0.000\n",
       "16                     house_type_T1        0.2749  ...    68.305         0.000\n",
       "17                     house_type_T2        0.2850  ...    69.763         0.000\n",
       "18  sec_business_Daily wage labourer        0.4355  ...   108.864         0.000\n",
       "19    sec_business_Livestock rearing        0.1253  ...    44.168         0.000\n",
       "20               sec_business_Others        0.4964  ...   122.046         0.000\n",
       "21                 sec_business_none        0.6177  ...   126.779         0.000\n",
       "\n",
       "[22 rows x 5 columns]"
      ]
     },
     "execution_count": 58,
     "metadata": {
      "tags": []
     },
     "output_type": "execute_result"
    }
   ],
   "source": [
    "generate_regression_values(X, y_train, theta, list(X_train.columns))"
   ]
  },
  {
   "cell_type": "code",
   "execution_count": 0,
   "metadata": {
    "colab": {},
    "colab_type": "code",
    "id": "bmJCtzB26WNO"
   },
   "outputs": [],
   "source": [
    "y_test = np.log(np.log(y_test))\n",
    "X_test = DataFrameImputer().fit_transform(X_test)\n",
    "X_test = pd.get_dummies(X_test, \n",
    "                         columns=[\"sex\", \"type_of_house\", \"secondary_business\"], \n",
    "                         prefix=[\"gender\", \"house_type\", \"sec_business\"], \n",
    "                         drop_first=True)\n",
    "for col in high_card_feats:\n",
    "    X_test[col] = frequency_encoding(X_test, col)\n",
    "X_test.drop(multicolinear_features, inplace=True, axis=1)\n",
    "X_test = (X_test - X_test.mean())/X_test.std()"
   ]
  },
  {
   "cell_type": "code",
   "execution_count": 60,
   "metadata": {
    "colab": {
     "base_uri": "https://localhost:8080/",
     "height": 35
    },
    "colab_type": "code",
    "id": "WvmDvtnX7_iN",
    "outputId": "2dcd87bf-51e7-4bcb-c9d4-b6dd57c41a4c"
   },
   "outputs": [
    {
     "name": "stdout",
     "output_type": "stream",
     "text": [
      "RMSE for test: 0.2077\n"
     ]
    }
   ],
   "source": [
    "ones_test = np.ones([X_test.shape[0], 1])\n",
    "X_t = np.concatenate((ones_test, X_test), axis=1)\n",
    "y_test_predict = predict(X_t, theta)\n",
    "rmse_test = mean_squared_error(y_test_predict, y_test)\n",
    "print('RMSE for test: {}'.format(round(rmse_test,4)))"
   ]
  }
 ],
 "metadata": {
  "colab": {
   "collapsed_sections": [],
   "name": "Thoughtworks_assignment.ipynb",
   "provenance": []
  },
  "kernelspec": {
   "display_name": "Python 3",
   "language": "python",
   "name": "python3"
  },
  "language_info": {
   "codemirror_mode": {
    "name": "ipython",
    "version": 3
   },
   "file_extension": ".py",
   "mimetype": "text/x-python",
   "name": "python",
   "nbconvert_exporter": "python",
   "pygments_lexer": "ipython3",
   "version": "3.7.3"
  }
 },
 "nbformat": 4,
 "nbformat_minor": 1
}
